{
 "cells": [
  {
   "cell_type": "code",
   "execution_count": 28,
   "id": "cb4ec81f",
   "metadata": {},
   "outputs": [],
   "source": []
  },
  {
   "cell_type": "code",
   "execution_count": 29,
   "id": "e8bd511a",
   "metadata": {},
   "outputs": [
    {
     "name": "stdout",
     "output_type": "stream",
     "text": [
      "['49', '91', '3b', 'f9', '71', '1c', '1e', '74', '51', '6', '11', '1', '8b', 'e3', '51', '10', '49', '5c', 'ca', 'a7']\n"
     ]
    }
   ],
   "source": [
    "'''\n",
    "M1 ^ K = C1\n",
    "M2 ^ K = C2\n",
    "M1 ^ M2 = C1 ^ C2\n",
    "M1 ^ M2 ^ C1 = C2   <-This is what we need.\n",
    "'''\n",
    "\n",
    "M1 = \"I love cryptography.\"\n",
    "M2 = \"I hate cryptography.\"\n",
    "C1 = [\"49\", \"91\", \"3F\", \"F7\", \"73\", \"1C\", \"1E\", \"74\", \"51\", \"06\",\n",
    "     \"11\", \"01\",\"8B\", \"E3\", \"51\", \"10\", \"49\", \"5C\", \"CA\", \"A7\"]\n",
    "C2 = []\n",
    "\n",
    "\n",
    "for i in range(len(M1)):\n",
    "    tmp = ord(M1[i])^int(C1[i],16)^ord(M2[i])\n",
    "    C2.append(str(hex(tmp))[2:])\n",
    "print(C2)\n"
   ]
  },
  {
   "cell_type": "code",
   "execution_count": null,
   "id": "467c3cf1",
   "metadata": {},
   "outputs": [],
   "source": []
  },
  {
   "cell_type": "code",
   "execution_count": null,
   "id": "676c1d5b",
   "metadata": {},
   "outputs": [],
   "source": []
  }
 ],
 "metadata": {
  "kernelspec": {
   "display_name": "Python 3",
   "language": "python",
   "name": "python3"
  },
  "language_info": {
   "codemirror_mode": {
    "name": "ipython",
    "version": 3
   },
   "file_extension": ".py",
   "mimetype": "text/x-python",
   "name": "python",
   "nbconvert_exporter": "python",
   "pygments_lexer": "ipython3",
   "version": "3.9.2"
  }
 },
 "nbformat": 4,
 "nbformat_minor": 5
}
